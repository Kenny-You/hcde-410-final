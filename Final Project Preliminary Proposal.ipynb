{
 "cells": [
  {
   "cell_type": "markdown",
   "id": "71b80344-7a70-4f05-b0b6-c0e09b4e5e88",
   "metadata": {
    "tags": []
   },
   "source": [
    "## Motivation and problem statement: One or more paragraphs of text that answers the questions:\n",
    "#### Why are you planning to do this analysis? \n",
    "#### Why is it potentially interesting and useful, from a scientific, practical, and/or human-centered perspective? \n",
    "#### What do you hope to learn? \n",
    "#### Note that you only need to describe your overall research goal at this stage; specific hypotheses or research questions aren’t necessary in the project preliminary proposal."
   ]
  },
  {
   "cell_type": "markdown",
   "id": "8ef47b67-a460-4d91-9a6b-f3170ea40fda",
   "metadata": {},
   "source": [
    "My motivation for this analysis is to understand what factor contributes the most for a player to be drafted into the NBA. I am interested in this analysis because I have a friend that may potentially go into the draft and I want to increase his chances by this research. It's also interesting from a human-centered perspective because it may shed light on possible discrimination for players that have the potential on paper, but do not get drafted because of superficial factors. The most prominent example I can give is Jeremy Lin who was not drafted when he was an NBA-caliber player coming out of Harvard on paper. Something that I hope to learn is what general managers and coaches value in a player, whether it's beyond the physical. I want talented players who deserve a fair shot at the league to shine like the rest, perhaps this research could motivate the league to look beyond how they assess future success. Much of the promises in new drafts don't end up to be the next Michael Jordan or Lebron James. There could be a more accurate way to determine future success in these players."
   ]
  },
  {
   "cell_type": "markdown",
   "id": "de926bcf-0a50-4f99-b576-6b0a7fecace5",
   "metadata": {},
   "source": [
    "### Data selected for analysis: What dataset do you plan to use, and why? \n",
    "#### Summarize what is represented in the dataset\n",
    "#### Link to the dataset (it must be publicly available)\n",
    "#### Specify license and/or terms of use for the data\n",
    "#### Explain why this dataset is a suitable one for addressing your research goal listed above\n",
    "#### Highlight any possible ethical considerations to using this dataset"
   ]
  },
  {
   "cell_type": "markdown",
   "id": "f1216420-ff62-4570-adb7-822a496d530c",
   "metadata": {},
   "source": [
    "I plan to use the dataset of all the NBA draft combine measurements, beginning in 2012. The link to the dataset is https://data.world/achou/nba-draft-combine-measurements. The dataset is free to use for the public, no specific licensing is provided. This dataset is suitable for the research goal that I am addressing because it includes which draft pick the players were if they were drafted. Both players that did and did not get drafted are included in the dataset and that will give us a good contrast to see what the determining factor is between the two. In terms of ethical considerations, the data is for public viewing and not meant to be hidden from anyone as to provide transparency."
   ]
  },
  {
   "cell_type": "markdown",
   "id": "7018f104-2290-4122-b20b-fadd332ba444",
   "metadata": {},
   "source": [
    "### Unknowns and dependencies: Are there any factors outside of your control that might impact your ability to complete this project by the end of the quarter? The purpose of this section is to get you thinking, in a practical sense, about your ability to complete this project within the time allotted."
   ]
  },
  {
   "cell_type": "markdown",
   "id": "2a16d22b-7084-4201-8267-38918bbb8af6",
   "metadata": {},
   "source": [
    "Tbere may be health issues that may arise during this process, but it is highly unlikely. Otherwise, I cannot foresee any factors that may be an obstacle for completing this project within the allotted time. "
   ]
  }
 ],
 "metadata": {
  "kernelspec": {
   "display_name": "Python 3 (ipykernel)",
   "language": "python",
   "name": "python3"
  },
  "language_info": {
   "codemirror_mode": {
    "name": "ipython",
    "version": 3
   },
   "file_extension": ".py",
   "mimetype": "text/x-python",
   "name": "python",
   "nbconvert_exporter": "python",
   "pygments_lexer": "ipython3",
   "version": "3.9.7"
  }
 },
 "nbformat": 4,
 "nbformat_minor": 5
}
